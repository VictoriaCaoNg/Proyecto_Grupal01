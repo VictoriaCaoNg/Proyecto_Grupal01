{
 "cells": [
  {
   "cell_type": "code",
   "execution_count": null,
   "metadata": {},
   "outputs": [],
   "source": [
    "import tkinter as tk\n",
    "import threading\n"
   ]
  },
  {
   "cell_type": "code",
   "execution_count": 3,
   "metadata": {},
   "outputs": [
    {
     "ename": "KeyboardInterrupt",
     "evalue": "",
     "output_type": "error",
     "traceback": [
      "\u001b[1;31m---------------------------------------------------------------------------\u001b[0m",
      "\u001b[1;31mKeyboardInterrupt\u001b[0m                         Traceback (most recent call last)",
      "Cell \u001b[1;32mIn[3], line 81\u001b[0m\n\u001b[0;32m     78\u001b[0m     ventana\u001b[38;5;241m.\u001b[39mmainloop()\n\u001b[0;32m     80\u001b[0m \u001b[38;5;66;03m# Ejecutar la interfaz\u001b[39;00m\n\u001b[1;32m---> 81\u001b[0m crear_interfaz()\n",
      "Cell \u001b[1;32mIn[3], line 78\u001b[0m, in \u001b[0;36mcrear_interfaz\u001b[1;34m()\u001b[0m\n\u001b[0;32m     75\u001b[0m hilo_interfaz\u001b[38;5;241m.\u001b[39mstart()\n\u001b[0;32m     77\u001b[0m \u001b[38;5;66;03m# Iniciar la interfaz gráfica\u001b[39;00m\n\u001b[1;32m---> 78\u001b[0m ventana\u001b[38;5;241m.\u001b[39mmainloop()\n",
      "File \u001b[1;32mc:\\Users\\danac\\anaconda3\\Lib\\tkinter\\__init__.py:1485\u001b[0m, in \u001b[0;36mMisc.mainloop\u001b[1;34m(self, n)\u001b[0m\n\u001b[0;32m   1483\u001b[0m \u001b[38;5;28;01mdef\u001b[39;00m \u001b[38;5;21mmainloop\u001b[39m(\u001b[38;5;28mself\u001b[39m, n\u001b[38;5;241m=\u001b[39m\u001b[38;5;241m0\u001b[39m):\n\u001b[0;32m   1484\u001b[0m \u001b[38;5;250m    \u001b[39m\u001b[38;5;124;03m\"\"\"Call the mainloop of Tk.\"\"\"\u001b[39;00m\n\u001b[1;32m-> 1485\u001b[0m     \u001b[38;5;28mself\u001b[39m\u001b[38;5;241m.\u001b[39mtk\u001b[38;5;241m.\u001b[39mmainloop(n)\n",
      "\u001b[1;31mKeyboardInterrupt\u001b[0m: "
     ]
    }
   ],
   "source": [
    "import time\n",
    "import random\n",
    "import redis\n",
    "\n",
    "# Configuración de Redis\n",
    "r = redis.Redis(\n",
    "    host='redis-18290.c57.us-east-1-4.ec2.redns.redis-cloud.com',\n",
    "    port=18290,\n",
    "    password='NcAH7LtarBZflWxhHIi73zmS4mMIbrVv')\n",
    "\n",
    "# Simulación de los jugadores\n",
    "jugadores = [\n",
    "    {\"id\": 1, \"nombre\": \"Carlos_5485\", \"puntos\": 1200},\n",
    "    {\"id\": 2, \"nombre\": \"lazz_111\", \"puntos\": 1500},\n",
    "    {\"id\": 3, \"nombre\": \"F555\", \"puntos\": 1300},\n",
    "    {\"id\": 4, \"nombre\": \"Michael_S\", \"puntos\": 1800}\n",
    "]\n",
    "\n",
    "# Actualiza los puntajes de los jugadores\n",
    "def actualizar_puntos(jugador_nombre):\n",
    "    puntos_actuales = r.zscore(\"ranking_jugadores\", jugador_nombre)\n",
    "    if puntos_actuales is None:\n",
    "        puntos_actuales = 0    \n",
    "\n",
    "    nuevos_puntos = random.randint(100, 6000)\n",
    "    puntos_finales = max(puntos_actuales + nuevos_puntos, 0)\n",
    "    timestamp = time.time()\n",
    "\n",
    "    # Actualizar puntajes en Redis\n",
    "    r.zadd(\"ranking_jugadores\", {jugador_nombre: puntos_finales})\n",
    "    r.hset(f\"{jugador_nombre}_last_update\", \"timestamp\", timestamp)\n",
    "    \n",
    "    # Guardar en el historial\n",
    "    historial_entrada = f\"{time.ctime(timestamp)}: {puntos_finales}\"\n",
    "    r.lpush(f\"{jugador_nombre}_historial\", historial_entrada)\n",
    "\n",
    "# Función para mostrar el top 3 jugadores en la interfaz\n",
    "def mostrar_top3_ranking():\n",
    "    ranking = r.zrevrange(\"ranking_jugadores\", 0, 2, withscores=True)  # Top 3 jugadores\n",
    "    return [(nombre.decode('utf-8'), puntos) for nombre, puntos in ranking]\n",
    "\n",
    "# Hilo para actualizar puntajes en segundo plano\n",
    "def actualizar_puntajes_periodicamente():\n",
    "    while True:\n",
    "        jugador_nombre = random.choice([jugador['nombre'] for jugador in jugadores])\n",
    "        actualizar_puntos(jugador_nombre)\n",
    "        time.sleep(10)\n",
    "\n",
    "# Hilo para actualizar la interfaz gráfica\n",
    "def actualizar_interfaz():\n",
    "    while True:\n",
    "        top3 = mostrar_top3_ranking()\n",
    "        for i, (nombre, puntos) in enumerate(top3):\n",
    "            etiquetas[i].config(text=f\"{i+1}. {nombre}: {puntos} puntos\")\n",
    "        time.sleep(1)\n",
    "\n",
    "# Configuración de la interfaz con Tkinter\n",
    "def crear_interfaz():\n",
    "    ventana = tk.Tk()\n",
    "    ventana.title(\"Ranking de Jugadores\")\n",
    "\n",
    "    # Etiquetas para mostrar el top 3\n",
    "    global etiquetas\n",
    "    etiquetas = [tk.Label(ventana, text=\"Cargando...\", font=(\"Helvetica\", 14)) for _ in range(3)]\n",
    "    for etiqueta in etiquetas:\n",
    "        etiqueta.pack()\n",
    "\n",
    "    # Hilos\n",
    "    hilo_actualizar_puntajes = threading.Thread(target=actualizar_puntajes_periodicamente, daemon=True)\n",
    "    hilo_actualizar_puntajes.start()\n",
    "\n",
    "    hilo_interfaz = threading.Thread(target=actualizar_interfaz, daemon=True)\n",
    "    hilo_interfaz.start()\n",
    "\n",
    "    # Iniciar la interfaz gráfica\n",
    "    ventana.mainloop()\n",
    "\n",
    "# Ejecutar la interfaz\n",
    "crear_interfaz()\n"
   ]
  }
 ],
 "metadata": {
  "kernelspec": {
   "display_name": "base",
   "language": "python",
   "name": "python3"
  },
  "language_info": {
   "codemirror_mode": {
    "name": "ipython",
    "version": 3
   },
   "file_extension": ".py",
   "mimetype": "text/x-python",
   "name": "python",
   "nbconvert_exporter": "python",
   "pygments_lexer": "ipython3",
   "version": "3.11.5"
  }
 },
 "nbformat": 4,
 "nbformat_minor": 2
}
