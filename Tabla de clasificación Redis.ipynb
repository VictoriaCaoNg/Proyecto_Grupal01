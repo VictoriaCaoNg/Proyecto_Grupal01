{
 "cells": [
  {
   "cell_type": "code",
   "execution_count": 1,
   "id": "fde1250b",
   "metadata": {},
   "outputs": [],
   "source": [
    "import redis\n",
    "\n",
    "# Cambiar esta parte por los datos que le da su cuenta de redis\n",
    "r = redis.Redis(\n",
    "  host='XXX',\n",
    "  port=###,\n",
    "  password='***')"
   ]
  },
  {
   "cell_type": "code",
   "execution_count": 4,
   "id": "dac3736a",
   "metadata": {},
   "outputs": [],
   "source": [
    "jugadores = [\n",
    "    {\"id\": 1, \"nombre\": \"Carlos_5485\", \"puntos\": 1200},\n",
    "    {\"id\": 2, \"nombre\": \"lazz_111\", \"puntos\": 1500},\n",
    "    {\"id\": 3, \"nombre\": \"F555\", \"puntos\": 1300},\n",
    "    {\"id\": 4, \"nombre\": \"Michael_S\", \"puntos\": 1800}\n",
    "]\n",
    "\n",
    "for jugador in jugadores:\n",
    "    r.zadd(\"ranking_jugadores\", {jugador['nombre']: jugador['puntos']})\n"
   ]
  },
  {
   "cell_type": "code",
   "execution_count": 6,
   "id": "343e541a",
   "metadata": {},
   "outputs": [
    {
     "name": "stdout",
     "output_type": "stream",
     "text": [
      "lazz_111 actualizado a 2863 puntos\n",
      "Michael_S actualizado a 1057.0 puntos\n",
      "Carlos_5485 actualizado a 2454 puntos\n",
      "F555 actualizado a 4702 puntos\n",
      "Carlos_5485 actualizado a 2454.0 puntos\n",
      "Carlos_5485 actualizado a 4870 puntos\n",
      "F555 actualizado a 4702.0 puntos\n",
      "lazz_111 actualizado a 2863.0 puntos\n",
      "Michael_S actualizado a 1163 puntos\n",
      "Michael_S actualizado a 5036 puntos\n",
      "Michael_S actualizado a 5036.0 puntos\n"
     ]
    },
    {
     "ename": "KeyboardInterrupt",
     "evalue": "",
     "output_type": "error",
     "traceback": [
      "\u001b[1;31m---------------------------------------------------------------------------\u001b[0m",
      "\u001b[1;31mKeyboardInterrupt\u001b[0m                         Traceback (most recent call last)",
      "Cell \u001b[1;32mIn[6], line 25\u001b[0m\n\u001b[0;32m     23\u001b[0m jugador_nombre \u001b[38;5;241m=\u001b[39m random\u001b[38;5;241m.\u001b[39mchoice([jugador[\u001b[38;5;124m'\u001b[39m\u001b[38;5;124mnombre\u001b[39m\u001b[38;5;124m'\u001b[39m] \u001b[38;5;28;01mfor\u001b[39;00m jugador \u001b[38;5;129;01min\u001b[39;00m jugadores])\n\u001b[0;32m     24\u001b[0m actualizar_puntos(jugador_nombre)\n\u001b[1;32m---> 25\u001b[0m time\u001b[38;5;241m.\u001b[39msleep(\u001b[38;5;241m10\u001b[39m)\n",
      "\u001b[1;31mKeyboardInterrupt\u001b[0m: "
     ]
    }
   ],
   "source": [
    "import time\n",
    "import random\n",
    "\n",
    "def actualizar_puntos(jugador_nombre):\n",
    "    # Puntos actuales del jugador\n",
    "    puntos_actuales = r.zscore(\"ranking_jugadores\", jugador_nombre)\n",
    "    if puntos_actuales is None:\n",
    "        puntos_actuales = 0  \n",
    "    \n",
    "    # Nuevos puntos\n",
    "    nuevos_puntos = random.randint(100, 6000)\n",
    "    \n",
    "    # Comparar los nuevos puntos con los puntos actuales y actualizar solo si son mayores\n",
    "    puntos_finales = max(puntos_actuales, nuevos_puntos)\n",
    "    \n",
    "    # Actualizar el ranking con los nuevos puntos (si son mayores)\n",
    "    r.zadd(\"ranking_jugadores\", {jugador_nombre: puntos_finales})\n",
    "    \n",
    "    print(f\"{jugador_nombre} actualizado a {puntos_finales} puntos\")\n",
    "\n",
    "# Ciclo para actualizar los puntos de forma periódica\n",
    "while True:\n",
    "    jugador_nombre = random.choice([jugador['nombre'] for jugador in jugadores])\n",
    "    actualizar_puntos(jugador_nombre)\n",
    "    time.sleep(10)\n"
   ]
  }
 ],
 "metadata": {
  "kernelspec": {
   "display_name": "Python 3 (ipykernel)",
   "language": "python",
   "name": "python3"
  },
  "language_info": {
   "codemirror_mode": {
    "name": "ipython",
    "version": 3
   },
   "file_extension": ".py",
   "mimetype": "text/x-python",
   "name": "python",
   "nbconvert_exporter": "python",
   "pygments_lexer": "ipython3",
   "version": "3.11.4"
  }
 },
 "nbformat": 4,
 "nbformat_minor": 5
}
