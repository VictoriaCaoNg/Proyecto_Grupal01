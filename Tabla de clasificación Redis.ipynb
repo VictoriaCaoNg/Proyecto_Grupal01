{
 "cells": [
  {
   "cell_type": "code",
   "execution_count": 1,
   "id": "fde1250b",
   "metadata": {},
   "outputs": [],
   "source": [
    "import redis\n",
    "\n",
    "# Cambiar esta parte por los datos que le da su cuenta de redis\n",
    "r = redis.Redis(\n",
    "  host='XXX',\n",
    "  port=###,\n",
    "  password='***')"
   ]
  },
  {
   "cell_type": "code",
   "execution_count": 4,
   "id": "dac3736a",
   "metadata": {},
   "outputs": [],
   "source": [
    "jugadores = [\n",
    "    {\"id\": 1, \"nombre\": \"Carlos_5485\", \"puntos\": 1200},\n",
    "    {\"id\": 2, \"nombre\": \"lazz_111\", \"puntos\": 1500},\n",
    "    {\"id\": 3, \"nombre\": \"F555\", \"puntos\": 1300},\n",
    "    {\"id\": 4, \"nombre\": \"Michael_S\", \"puntos\": 1800}\n",
    "]\n",
    "\n",
    "for jugador in jugadores:\n",
    "    r.zadd(\"ranking_jugadores\", {jugador['nombre']: jugador['puntos']})\n"
   ]
  },
  {
   "cell_type": "code",
   "execution_count": null,
   "id": "d17ebb08",
   "metadata": {},
   "outputs": [],
   "source": [
    "import time\n",
    "import random\n",
    "\n",
    "def actualizar_puntos(jugador_nombre):\n",
    "    # Puntos actuales del jugador\n",
    "    puntos_actuales = r.zscore(\"ranking_jugadores\", jugador_nombre)\n",
    "    if puntos_actuales is None:\n",
    "        puntos_actuales = 0  \n",
    "    \n",
    "    # Nuevos puntos\n",
    "    nuevos_puntos = random.randint(100, 6000)\n",
    "    \n",
    "    # Comparar los nuevos puntos con los puntos actuales y actualizar solo si son mayores\n",
    "    puntos_finales = max(puntos_actuales, nuevos_puntos)\n",
    "    \n",
    "    # Actualizar el ranking con los nuevos puntos (si son mayores)\n",
    "    r.zadd(\"ranking_jugadores\", {jugador_nombre: puntos_finales})\n",
    "    \n",
    "    print(f\"{jugador_nombre} actualizado a {puntos_finales} puntos\")\n"
   ]
  },
  {
   "cell_type": "code",
   "execution_count": null,
   "id": "35229d0c",
   "metadata": {},
   "outputs": [],
   "source": [
    "# Ciclo para actualizar los puntos de forma periódica\n",
    "contador = 0\n",
    "while contador < 10:\n",
    "    jugador_nombre = random.choice([jugador['nombre'] for jugador in jugadores])\n",
    "    actualizar_puntos(jugador_nombre)\n",
    "    contador += 1\n",
    "    time.sleep(10)"
   ]
  }
 ],
 "metadata": {
  "kernelspec": {
   "display_name": "Python 3 (ipykernel)",
   "language": "python",
   "name": "python3"
  },
  "language_info": {
   "codemirror_mode": {
    "name": "ipython",
    "version": 3
   },
   "file_extension": ".py",
   "mimetype": "text/x-python",
   "name": "python",
   "nbconvert_exporter": "python",
   "pygments_lexer": "ipython3",
   "version": "3.11.4"
  }
 },
 "nbformat": 4,
 "nbformat_minor": 5
}
