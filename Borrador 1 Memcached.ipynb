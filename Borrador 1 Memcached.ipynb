{
 "cells": [
  {
   "cell_type": "code",
   "execution_count": 3,
   "id": "e7a6935e",
   "metadata": {},
   "outputs": [],
   "source": [
    "import memcache\n",
    "import random\n",
    "import time"
   ]
  },
  {
   "cell_type": "code",
   "execution_count": 4,
   "id": "242ba0d0",
   "metadata": {},
   "outputs": [],
   "source": [
    "\n",
    "# Connect to the Memcached server\n",
    "mc = memcache.Client(['XXXX'], debug=0)\n",
    "\n",
    "# Function to add or update a score in the leaderboard\n",
    "def add_score(name, score):\n",
    "    leaderboard = mc.get('leaderboard') or {}\n",
    "    leaderboard[name] = score\n",
    "    mc.set('leaderboard', leaderboard)\n",
    "\n",
    "# Function to retrieve the top 10 scores from the leaderboard\n",
    "def get_leaderboard():\n",
    "    leaderboard = mc.get('leaderboard') or {}\n",
    "    sorted_leaderboard = sorted(leaderboard.items(), key=lambda x: x[1], reverse=True)[:10]\n",
    "    return sorted_leaderboard\n",
    "\n",
    "def simulate_live_updates(names, max_updates=10):\n",
    "    updates = 0\n",
    "    while updates < max_updates:\n",
    "        leaderboard = mc.get('leaderboard') or {}\n",
    "        for name in names:\n",
    "            current_score = leaderboard.get(name, 0)\n",
    "            new_score = random.randint(current_score + 1, current_score + 50)\n",
    "            add_score(name, new_score)\n",
    "\n",
    "        top_players = get_leaderboard()\n",
    "        if top_players:\n",
    "            print(\"\\nCurrent Leaderboard:\")\n",
    "            for player, score in top_players:\n",
    "                print(f'{player}: {score}')\n",
    "        else:\n",
    "            print(\"\\nLeaderboard is empty\")\n",
    "\n",
    "        time.sleep(10)  # Esperar 10 segundos antes de la siguiente actualización\n",
    "        updates += 1  # Incrementar el contador de actualizacione\n",
    "\n"
   ]
  },
  {
   "cell_type": "code",
   "execution_count": null,
   "id": "641f23dd",
   "metadata": {},
   "outputs": [],
   "source": [
    "# Example usage\n",
    "names = ['Alice', 'Bob', 'Carol']\n",
    "for name in names:\n",
    "    add_score(name, random.randint(100, 6000))\n",
    "\n",
    "simulate_live_updates(names)"
   ]
  },
  {
   "cell_type": "code",
   "execution_count": 6,
   "id": "c120ab94",
   "metadata": {},
   "outputs": [
    {
     "data": {
      "text/plain": [
       "[('Alice', 4969), ('Carol', 3891), ('Bob', 2773)]"
      ]
     },
     "execution_count": 6,
     "metadata": {},
     "output_type": "execute_result"
    }
   ],
   "source": [
    "get_leaderboard()"
   ]
  }
 ],
 "metadata": {
  "kernelspec": {
   "display_name": "Python 3 (ipykernel)",
   "language": "python",
   "name": "python3"
  },
  "language_info": {
   "codemirror_mode": {
    "name": "ipython",
    "version": 3
   },
   "file_extension": ".py",
   "mimetype": "text/x-python",
   "name": "python",
   "nbconvert_exporter": "python",
   "pygments_lexer": "ipython3",
   "version": "3.11.4"
  }
 },
 "nbformat": 4,
 "nbformat_minor": 5
}
